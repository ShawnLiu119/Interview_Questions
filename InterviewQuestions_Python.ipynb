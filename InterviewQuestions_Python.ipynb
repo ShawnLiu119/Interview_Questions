{
  "nbformat": 4,
  "nbformat_minor": 0,
  "metadata": {
    "colab": {
      "provenance": [],
      "authorship_tag": "ABX9TyMDYLjaRWcZpF66SFaCguQq",
      "include_colab_link": true
    },
    "kernelspec": {
      "name": "python3",
      "display_name": "Python 3"
    },
    "language_info": {
      "name": "python"
    }
  },
  "cells": [
    {
      "cell_type": "markdown",
      "metadata": {
        "id": "view-in-github",
        "colab_type": "text"
      },
      "source": [
        "<a href=\"https://colab.research.google.com/github/ShawnLiu119/Interview_Questions/blob/main/InterviewQuestions_Python.ipynb\" target=\"_parent\"><img src=\"https://colab.research.google.com/assets/colab-badge.svg\" alt=\"Open In Colab\"/></a>"
      ]
    },
    {
      "cell_type": "markdown",
      "source": [
        "###1. Probability @ Robinhood <br>\n",
        "Let’s say you are playing a coin flip game. You start with 30 dollars. If you flip heads, you win one dollar, but if you get tails, you lose one dollar. You keep playing until you run out of money (have 0) or until you win 100 dollars.\n",
        "What is the probability that you win 100 dollars?"
      ],
      "metadata": {
        "id": "J8uKodDXQwZ-"
      }
    },
    {
      "cell_type": "markdown",
      "source": [
        "To determine the probability of winning 100 dollars in this coin flip game, we can analyze the situation.\n",
        "\n",
        "Each flip of the coin is independent and has a 50% chance of resulting in heads (winning one dollar) and a 50% chance of resulting in tails (losing one dollar).\n",
        "\n",
        "Let's denote the probability of winning 100 dollars starting from a given amount of money. Let\n",
        "𝑃\n",
        "(\n",
        "𝑛\n",
        ")\n",
        "P(n) be the probability of winning 100 dollars starting with\n",
        "𝑛\n",
        "n dollars.\n",
        "\n",
        "The game ends when you either win 100 dollars or lose all your money.\n",
        "\n",
        "So, the probability of winning 100 dollars starting with 30 dollars can be calculated recursively:\n",
        "\n",
        "𝑃\n",
        "(\n",
        "30\n",
        ")\n",
        "=\n",
        "0.5\n",
        "∗\n",
        "𝑃\n",
        "(\n",
        "31\n",
        ")\n",
        "+\n",
        "0.5\n",
        "∗\n",
        "𝑃\n",
        "(\n",
        "29\n",
        ")\n",
        "<br>\n",
        "\n",
        "Similarly,\n",
        "\n",
        "𝑃\n",
        "(\n",
        "31\n",
        ")\n",
        "=\n",
        "0.5\n",
        "∗\n",
        "𝑃\n",
        "(\n",
        "32\n",
        ")\n",
        "+\n",
        "0.5\n",
        "∗\n",
        "𝑃\n",
        "(\n",
        "30\n",
        ")\n",
        "<br>\n",
        "𝑃\n",
        "(\n",
        "29\n",
        ")\n",
        "=\n",
        "0.5\n",
        "∗\n",
        "𝑃\n",
        "(\n",
        "30\n",
        ")\n",
        "+\n",
        "0.5\n",
        "∗\n",
        "𝑃\n",
        "(\n",
        "28\n",
        ")\n",
        "\n",
        "We can continue this process until we reach the base cases:\n",
        "\n",
        "𝑃\n",
        "(\n",
        "100\n",
        ")\n",
        "=\n",
        "1\n",
        "P(100)=1 (since you've already won)\n",
        "𝑃\n",
        "(\n",
        "0\n",
        ")\n",
        "=\n",
        "0\n",
        "P(0)=0 (since you've lost all your money)\n",
        "\n",
        "We then solve these equations recursively to find\n",
        "𝑃\n",
        "(\n",
        "30\n",
        ")\n",
        "P(30), which is the probability of winning 100 dollars starting with 30 dollars."
      ],
      "metadata": {
        "id": "HkBOda3_R9le"
      }
    },
    {
      "cell_type": "code",
      "execution_count": null,
      "metadata": {
        "colab": {
          "base_uri": "https://localhost:8080/"
        },
        "id": "1onGLS13G6Os",
        "outputId": "7382f6bc-4648-4618-cc35-dccd040f8e0a"
      },
      "outputs": [
        {
          "output_type": "stream",
          "name": "stdout",
          "text": [
            "The estimated probability of winning 100 dollars starting with 30 dollars after 100000 trials is: 0.2992\n"
          ]
        }
      ],
      "source": [
        "#solution 1 - many times trials\n",
        "\n",
        "import random\n",
        "\n",
        "def play_game(starting_money):\n",
        "    money = starting_money\n",
        "    while money > 0 and money < 100: #break when the money reaches 100 or run out of money\n",
        "        flip = random.choice([\"heads\", \"tails\"])\n",
        "        if flip == \"heads\":\n",
        "            money += 1\n",
        "        else:\n",
        "            money -= 1\n",
        "    return money == 100\n",
        "\n",
        "def estimate_probability(starting_money, num_trials):\n",
        "    num_wins = 0\n",
        "    for _ in range(num_trials):\n",
        "        if play_game(starting_money): #if true return, mean 100 reached\n",
        "            num_wins += 1\n",
        "    return num_wins / num_trials\n",
        "\n",
        "starting_money = 30\n",
        "num_trials = 100000\n",
        "probability = estimate_probability(starting_money, num_trials)\n",
        "print(f\"The estimated probability of winning 100 dollars starting with {starting_money} dollars after {num_trials} trials is: {probability:.4f}\")\n"
      ]
    },
    {
      "cell_type": "code",
      "source": [
        "import resource, sys\n",
        "resource.setrlimit(resource.RLIMIT_STACK, (2**29,-1))\n",
        "sys.setrecursionlimit(10**6) #increase the limit of recursion, right now python limit is 1000"
      ],
      "metadata": {
        "id": "WVAes3rYXwJw"
      },
      "execution_count": null,
      "outputs": []
    },
    {
      "cell_type": "code",
      "source": [
        "# solution 2 - recursive calculation -- (this solution run endlessly)\n",
        "\n",
        "def probability_of_winning(current_amount, target_amount, memo):\n",
        "    # Base cases\n",
        "    if current_amount <= 0: #run out of money\n",
        "        return 0\n",
        "    if current_amount >= target_amount: #win100\n",
        "        return 1\n",
        "\n",
        "    # Check if the result is already in the memo\n",
        "    if current_amount in memo:\n",
        "        return memo[current_amount]\n",
        "\n",
        "    # Recursive case: average probability from the next steps\n",
        "    win_prob = 0.5 * probability_of_winning(current_amount + 1, target_amount, memo) + \\\n",
        "               0.5 * probability_of_winning(current_amount - 1, target_amount, memo)\n",
        "\n",
        "    # Store the result in the memo and return it\n",
        "    memo[current_amount] = win_prob\n",
        "    return win_prob\n",
        "\n",
        "# Parameters\n",
        "starting_amount = 30\n",
        "target_amount = 100\n",
        "memo = {}\n",
        "\n",
        "# Calculate the probability\n",
        "probability = probability_of_winning(starting_amount, target_amount, memo)\n",
        "\n",
        "print(f\"The probability of winning $100 starting from $30 is: {probability:.4f}\")\n"
      ],
      "metadata": {
        "colab": {
          "base_uri": "https://localhost:8080/"
        },
        "id": "MftMQjqqS7Gd",
        "outputId": "f94306b2-ce21-46e8-bb0c-98940904262c"
      },
      "execution_count": null,
      "outputs": [
        {
          "output_type": "stream",
          "name": "stderr",
          "text": [
            "ERROR:root:Internal Python error in the inspect module.\n",
            "Below is the traceback from this internal error.\n",
            "\n",
            "ERROR:root:Internal Python error in the inspect module.\n",
            "Below is the traceback from this internal error.\n",
            "\n"
          ]
        }
      ]
    },
    {
      "cell_type": "code",
      "source": [
        "# solution 3 trial - ChatGPT\n",
        "\n",
        "def probability_of_winning(starting_amount, target_amount):\n",
        "    # Initialize a list to store the probabilities for each amount\n",
        "    dp = [0] * (target_amount + 1)\n",
        "\n",
        "    # Base cases\n",
        "    dp[0] = 0  # If you have $0, you can't win\n",
        "    dp[target_amount] = 1  # If you have $100, you have already won\n",
        "\n",
        "    # Fill the dp array from 1 to target_amount - 1\n",
        "    for i in range(1, target_amount):\n",
        "        dp[i] = 0.5 * dp[i - 1] + 0.5 * dp[i + 1]\n",
        "\n",
        "    return dp[starting_amount]\n",
        "\n",
        "# Parameters\n",
        "starting_amount = 30\n",
        "target_amount = 100\n",
        "\n",
        "# Calculate the probability\n",
        "probability = probability_of_winning(starting_amount, target_amount)\n",
        "\n",
        "print(f\"The probability of winning $100 starting from $30 is: {probability:.10f}\")\n"
      ],
      "metadata": {
        "colab": {
          "base_uri": "https://localhost:8080/"
        },
        "id": "d0PmGeclbufV",
        "outputId": "b3e9dbe5-97ce-4e2f-b0e5-b1a332c5aac0"
      },
      "execution_count": null,
      "outputs": [
        {
          "output_type": "stream",
          "name": "stdout",
          "text": [
            "The probability of winning $100 starting from $30 is: 0.0000000000\n"
          ]
        }
      ]
    },
    {
      "cell_type": "code",
      "source": [
        "import resource, sys\n",
        "resource.setrlimit(resource.RLIMIT_STACK, (2**29,-1))\n",
        "sys.setrecursionlimit(10**6) #increase the limit of recursion, right now python limit is 1000"
      ],
      "metadata": {
        "id": "KRHrpIp7eN5R"
      },
      "execution_count": null,
      "outputs": []
    },
    {
      "cell_type": "code",
      "source": [
        "import sys\n",
        "print(sys.getrecursionlimit())"
      ],
      "metadata": {
        "colab": {
          "base_uri": "https://localhost:8080/"
        },
        "id": "2aA8oSujXkRV",
        "outputId": "9b25b68e-4441-42de-e325-982e28b03ef4"
      },
      "execution_count": null,
      "outputs": [
        {
          "output_type": "stream",
          "name": "stdout",
          "text": [
            "1000\n"
          ]
        }
      ]
    },
    {
      "cell_type": "code",
      "source": [
        "starting_money=30\n",
        "probabilities = [0] * (starting_money + 1)\n",
        "print(probabilities)\n",
        "len(probabilities)"
      ],
      "metadata": {
        "colab": {
          "base_uri": "https://localhost:8080/"
        },
        "id": "ZWhu2AZxU4LJ",
        "outputId": "90939376-9968-484a-908c-c7871b36703b"
      },
      "execution_count": null,
      "outputs": [
        {
          "output_type": "stream",
          "name": "stdout",
          "text": [
            "[0, 0, 0, 0, 0, 0, 0, 0, 0, 0, 0, 0, 0, 0, 0, 0, 0, 0, 0, 0, 0, 0, 0, 0, 0, 0, 0, 0, 0, 0, 0]\n"
          ]
        },
        {
          "output_type": "execute_result",
          "data": {
            "text/plain": [
              "31"
            ]
          },
          "metadata": {},
          "execution_count": 5
        }
      ]
    },
    {
      "cell_type": "code",
      "source": [],
      "metadata": {
        "id": "by5pTLh7U9K7"
      },
      "execution_count": null,
      "outputs": []
    },
    {
      "cell_type": "markdown",
      "source": [
        "### 2. Probability @ Amazon\n",
        "reference:https://priyankabanerjee.medium.com/guide-for-data-science-interview-python-71901df4bd44"
      ],
      "metadata": {
        "id": "rzgcHoBzCVnq"
      }
    },
    {
      "cell_type": "markdown",
      "source": [
        "Every night between 7pm and midnight, two computing jobs from two different sources are randomly started with each one lasting an hour. Unfortunately, when the jobs simultaneously run, they cause a failure in some of the company’s other nightly jobs, resulting in downtime for the company that costs $1000.<br>\n",
        "\n",
        "The CEO needs a single number representing the annual (365 days) cost of this problem. Write a function to simulate this problem and output an estimated cost. Bonus — How this can be solved using probability? (Wealthfront | Roles: Data Analysts, Data Scientist, Business Intelligence)<br>\n",
        "\n",
        "Answer: Within 7pm and midnight, we have 5*60*60 seconds. We can do simulation to get an approximation of the probability that overlap will occur between the two jobs. We will generate two random numbers and check if they overlap and append the values 1 or 0 to our array. Finally we will consider the mean to get the answer.<br>"
      ],
      "metadata": {
        "id": "ph5khq5_Cmp-"
      }
    },
    {
      "cell_type": "code",
      "source": [
        "import numpy as np\n",
        "import pandas as pd\n",
        "\n",
        "job1_start_sec = np.random.randint(0, 5*60*60, size=10000000) #size represents number of trials\n",
        "job2_start_sec = np.random.randint(0, 5*60*60, size=10000000)\n",
        "\n",
        "def overlap(job1_start_sec, job2_start_sec):\n",
        "  df = pd.DataFrame({'job1_start_sec': job1_start_sec, 'job2_start_sec': job2_start_sec})\n",
        "  df['diff'] = np.where(np.abs(job1_start_sec-job2_start_sec) < 3600, 1, 0) #two job trigger within 1 hour,so there is job overlap\n",
        "  # prob =  df['diff'].sum() / len(df)\n",
        "  prob = df['diff'].mean()\n",
        "  return prob\n",
        "\n",
        "overlap(job1_start_sec, job2_start_sec)"
      ],
      "metadata": {
        "colab": {
          "base_uri": "https://localhost:8080/"
        },
        "id": "efeYsB8jCk_D",
        "outputId": "5bb18ab5-8b33-4ac5-bb79-3ccd62d86fa7"
      },
      "execution_count": 5,
      "outputs": [
        {
          "output_type": "execute_result",
          "data": {
            "text/plain": [
              "0.35991"
            ]
          },
          "metadata": {},
          "execution_count": 5
        }
      ]
    },
    {
      "cell_type": "code",
      "source": [],
      "metadata": {
        "id": "GON0I8M1DYIN"
      },
      "execution_count": null,
      "outputs": []
    }
  ]
}